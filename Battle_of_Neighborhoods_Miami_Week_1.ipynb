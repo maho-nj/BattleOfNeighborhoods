{
 "cells": [
  {
   "cell_type": "markdown",
   "metadata": {},
   "source": [
    "# BATTLE OF NEIGHBORHOODS (MIAMI) - WEEK 1\n",
    "\n",
    "## APPLIED DATA SCIENCE CAPSTONE \n",
    "\n",
    "This section provides a description of the problem and a discussion of the background.\n",
    "\n",
    "### 1. Description of the problem \n",
    "\n",
    "The Battle of Neighborhoods is a Coursera Capstone project that seeks to use Foursquare location data, in combination with other selected data, to develop a business case around the suitability of a particular neighborhood for the opening of a new Restaurant in a given City. The city selected for this endeavour was Miami, well-known for being a touristic magnet, and, therefore, a good opportunity for the restauration industry, which seeks to consistently respond to a high demand of food, while maintaining a steady operation in a safe neighborhood. This goal can be approached by gathering and processing enough information towards decision making. This information is often not given, thus requires structured and/or intensive searches, depending on the availability of the information. In this regard, the recourse to Foursquare to obtain ample information about the venues in a specific location is a good starting point, but this information should be processed adequately to segregate the signal from the noise. Furthermore, this information can be also be complemented by additional information, when required, to gather enough insights prior to providing a constructive feedback to a client. \n"
   ]
  },
  {
   "cell_type": "markdown",
   "metadata": {},
   "source": [
    "### 2. Discussion of the background\n",
    "\n",
    "\n",
    "According to FSR Magazine in this issue:https://www.fsrmagazine.com/expert-takes/8-factors-choosing-new-restaurant-location, the selection of a new restaurant location should be driven by 8 factors, including but not limited to:\n",
    "\n",
    "- Visibility,\n",
    "- Parking,\n",
    "- Space size,\n",
    "- Crime rates,\n",
    "- Surrounding Businesses and Competitors analysis,\n",
    "- Accessibility,\n",
    "- Affordability,and\n",
    "- Safety.\n",
    "\n",
    "To this end, the following steps will be taken to determine which neighborhood wins the battle of neighborhoods:\n",
    "\n",
    "\n",
    "1. To use web-scrapping to collect the list of neighborhoods in Miami. The web site used to achieve this objective was: https://en.wikipedia.org/wiki/List_of_neighborhoods_in_Miami,\n",
    "2. To use geolocation data and an API to get the list of venues in these neighborhooods,\n",
    "3. To filter the list of restaurant in each Neighboorhood and group them in a dataframe,\n",
    "4. To plot the number of restaurants in each neighborhood,\n",
    "5. To plot the population of each neighborhood,\n",
    "6. To identify from the plots of step 4 and 5 which neighborhood may lack restaurants (visibility, surrounding businesses and competitor analysis),\n",
    "7. To use a linear regression to determine a correlation between population and number of restaurants\n",
    "8. To cluster each neighborhood of Miami and may them in a leaflet (Parking),\n",
    "9. To obtain the data pertaining to crime rate data in neighborhood of Miami (https://www.areavibes.com/miami-fl/most-dangerous-neighborhoods/) and plot it (Crime rates and Safety),\n",
    "10. To obtain data relevant to Median Household income in each neighborhood of Miami, (https://www.homesnacks.net/richest-neighborhoods-in-miami-128997/) ,and plot it (Targeted clientele and Affordability), and\n",
    "11. To suggest which neighborhood(s) is suitable for opening a new restaurant in Miami.\n",
    "\n",
    "\n",
    "\n"
   ]
  },
  {
   "cell_type": "code",
   "execution_count": null,
   "metadata": {},
   "outputs": [],
   "source": []
  }
 ],
 "metadata": {
  "kernelspec": {
   "display_name": "Python 3",
   "language": "python",
   "name": "python3"
  },
  "language_info": {
   "codemirror_mode": {
    "name": "ipython",
    "version": 3
   },
   "file_extension": ".py",
   "mimetype": "text/x-python",
   "name": "python",
   "nbconvert_exporter": "python",
   "pygments_lexer": "ipython3",
   "version": "3.7.4"
  }
 },
 "nbformat": 4,
 "nbformat_minor": 2
}
